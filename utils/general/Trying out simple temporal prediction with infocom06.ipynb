{
 "cells": [
  {
   "cell_type": "code",
   "execution_count": 1,
   "metadata": {},
   "outputs": [],
   "source": [
    "import numpy as np"
   ]
  },
  {
   "cell_type": "code",
   "execution_count": 6,
   "metadata": {},
   "outputs": [
    {
     "name": "stdout",
     "output_type": "stream",
     "text": [
      "['1\\t3\\t51293\\t51293\\t1\\t0\\n', '1\\t3\\t60603\\t60603\\t2\\t9310\\n', '1\\t3\\t62363\\t62363\\t3\\t1760\\n', '1\\t3\\t79649\\t79649\\t4\\t17286\\n', '1\\t3\\t80129\\t80734\\t5\\t480\\n', '1\\t3\\t80969\\t80969\\t6\\t235\\n', '1\\t3\\t81330\\t81330\\t7\\t361\\n', '1\\t3\\t81351\\t82787\\t8\\t21\\n', '1\\t3\\t83152\\t83401\\t9\\t365\\n', '1\\t3\\t83644\\t83644\\t10\\t243\\n']\n",
      "[['1', '3', '51293', '51293', '1', '0'], ['1', '3', '60603', '60603', '2', '9310'], ['1', '3', '62363', '62363', '3', '1760'], ['1', '3', '79649', '79649', '4', '17286'], ['1', '3', '80129', '80734', '5', '480'], ['1', '3', '80969', '80969', '6', '235'], ['1', '3', '81330', '81330', '7', '361'], ['1', '3', '81351', '82787', '8', '21'], ['1', '3', '83152', '83401', '9', '365'], ['1', '3', '83644', '83644', '10', '243']]\n"
     ]
    }
   ],
   "source": [
    "datalines = open(r\"..\\..\\..\\datasets\\Temporal graphs\\cambridge_haggle\\Exp6.tar\\Exp6\\contacts.Exp6.dat\", 'r').readlines()\n",
    "print(datalines[:10])\n",
    "datalines = [row.replace('\\n', '').split('\\t') for row in datalines]\n",
    "print(datalines[:10])\n",
    "datalines = datalines[2:]"
   ]
  },
  {
   "cell_type": "code",
   "execution_count": 3,
   "metadata": {},
   "outputs": [
    {
     "data": {
      "text/plain": [
       "[['1', '3', '62363', '62363', '3', '1760'],\n",
       " ['1', '3', '79649', '79649', '4', '17286'],\n",
       " ['1', '3', '80129', '80734', '5', '480'],\n",
       " ['1', '3', '80969', '80969', '6', '235'],\n",
       " ['1', '3', '81330', '81330', '7', '361'],\n",
       " ['1', '3', '81351', '82787', '8', '21'],\n",
       " ['1', '3', '83152', '83401', '9', '365'],\n",
       " ['1', '3', '83644', '83644', '10', '243'],\n",
       " ['1', '3', '83892', '84361', '11', '248'],\n",
       " ['1', '3', '84615', '84740', '12', '254']]"
      ]
     },
     "execution_count": 3,
     "metadata": {},
     "output_type": "execute_result"
    }
   ],
   "source": [
    "datalines[:10]"
   ]
  },
  {
   "cell_type": "code",
   "execution_count": 4,
   "metadata": {},
   "outputs": [],
   "source": [
    "froms, tos, times_s, times_e, _, _ = zip(*[d for d in datalines])"
   ]
  },
  {
   "cell_type": "code",
   "execution_count": 5,
   "metadata": {},
   "outputs": [],
   "source": [
    "int_froms = list(map(int, froms))\n",
    "int_tos = list(map(int, tos))\n",
    "int_times_s = list(map(int, times_s))\n",
    "int_times_e = list(map(int, times_e))"
   ]
  },
  {
   "cell_type": "code",
   "execution_count": 6,
   "metadata": {},
   "outputs": [],
   "source": [
    "int_times = np.add(int_times_e, int_times_s)/2"
   ]
  },
  {
   "cell_type": "code",
   "execution_count": 7,
   "metadata": {},
   "outputs": [],
   "source": [
    "HOUR_IN_SECONDS = 60*60\n",
    "FOUR_HOURS_IN_SECONDS = HOUR_IN_SECONDS * 4\n",
    "DAY_IN_SECONDS = HOUR_IN_SECONDS*24\n",
    "WEEK_IN_SECONDS = DAY_IN_SECONDS*7\n",
    "MONTH_IN_SECONDS = DAY_IN_SECONDS*30\n",
    "YEAR_IN_SECONDS = DAY_IN_SECONDS*365"
   ]
  },
  {
   "cell_type": "code",
   "execution_count": 8,
   "metadata": {},
   "outputs": [],
   "source": [
    "min_time = np.min(int_times)\n",
    "max_time = np.max(int_times)\n",
    "time_span_seconds = max_time-min_time\n",
    "num_of_hours = int(np.ceil(time_span_seconds/HOUR_IN_SECONDS))\n",
    "num_of_four_hours = int(np.ceil(time_span_seconds/FOUR_HOURS_IN_SECONDS))\n",
    "num_of_days = int(np.ceil(time_span_seconds/DAY_IN_SECONDS))\n",
    "num_of_weeks = int(np.ceil(time_span_seconds/WEEK_IN_SECONDS))\n",
    "num_of_months = int(np.ceil(time_span_seconds/MONTH_IN_SECONDS))\n",
    "num_of_years = int(np.ceil(time_span_seconds/YEAR_IN_SECONDS))\n"
   ]
  },
  {
   "cell_type": "code",
   "execution_count": 9,
   "metadata": {},
   "outputs": [
    {
     "name": "stdout",
     "output_type": "stream",
     "text": [
      "num of hours: 94, num of four hours: 24, num of days: 4, num of weeks: 1, num of months: 1, num of years: 1\n"
     ]
    }
   ],
   "source": [
    "print(f\"num of hours: {num_of_hours}, num of four hours: {num_of_four_hours}, num of days: {num_of_days}, num of weeks: {num_of_weeks}, num of months: {num_of_months}, num of years: {num_of_years}\".format())"
   ]
  },
  {
   "cell_type": "code",
   "execution_count": 10,
   "metadata": {},
   "outputs": [
    {
     "data": {
      "text/plain": [
       "(array([ 7928,  8665,  6332,  1201,  1035,   977,   528,   328,   265,\n",
       "          260,   150,   165,  1944, 11495,  7727,  6387,  7182,  7187,\n",
       "         6187,  5277,  5695,  5652,  6139,  6163,  1813,  1208,   990,\n",
       "          874,   904,   562,   709,   567,   559,   705,   677,   540,\n",
       "          551,  2068,  6785,  8113,  7893,  6892,  5970,  5541,  4964,\n",
       "         4006,  3501,  3162,  2319,  3961,  1796,   701,   634,   431,\n",
       "          439,   378,   374,   290,   304,   278,   559,  1915,  2942,\n",
       "         3367,  3263,  3080,  3080,  2447,  2501,  2526,  1981,  1325,\n",
       "          609,   383,   424,   650,   345,   214,   165,   130,   122,\n",
       "          159,   192,   274,   493,   992,  1294,  1315,  1393,  1376,\n",
       "          924,   565,   284,    38], dtype=int64),\n",
       " array([  6561.        ,  10139.23404255,  13717.46808511,  17295.70212766,\n",
       "         20873.93617021,  24452.17021277,  28030.40425532,  31608.63829787,\n",
       "         35186.87234043,  38765.10638298,  42343.34042553,  45921.57446809,\n",
       "         49499.80851064,  53078.04255319,  56656.27659574,  60234.5106383 ,\n",
       "         63812.74468085,  67390.9787234 ,  70969.21276596,  74547.44680851,\n",
       "         78125.68085106,  81703.91489362,  85282.14893617,  88860.38297872,\n",
       "         92438.61702128,  96016.85106383,  99595.08510638, 103173.31914894,\n",
       "        106751.55319149, 110329.78723404, 113908.0212766 , 117486.25531915,\n",
       "        121064.4893617 , 124642.72340426, 128220.95744681, 131799.19148936,\n",
       "        135377.42553191, 138955.65957447, 142533.89361702, 146112.12765957,\n",
       "        149690.36170213, 153268.59574468, 156846.82978723, 160425.06382979,\n",
       "        164003.29787234, 167581.53191489, 171159.76595745, 174738.        ,\n",
       "        178316.23404255, 181894.46808511, 185472.70212766, 189050.93617021,\n",
       "        192629.17021277, 196207.40425532, 199785.63829787, 203363.87234043,\n",
       "        206942.10638298, 210520.34042553, 214098.57446809, 217676.80851064,\n",
       "        221255.04255319, 224833.27659574, 228411.5106383 , 231989.74468085,\n",
       "        235567.9787234 , 239146.21276596, 242724.44680851, 246302.68085106,\n",
       "        249880.91489362, 253459.14893617, 257037.38297872, 260615.61702128,\n",
       "        264193.85106383, 267772.08510638, 271350.31914894, 274928.55319149,\n",
       "        278506.78723404, 282085.0212766 , 285663.25531915, 289241.4893617 ,\n",
       "        292819.72340426, 296397.95744681, 299976.19148936, 303554.42553191,\n",
       "        307132.65957447, 310710.89361702, 314289.12765957, 317867.36170213,\n",
       "        321445.59574468, 325023.82978723, 328602.06382979, 332180.29787234,\n",
       "        335758.53191489, 339336.76595745, 342915.        ]))"
      ]
     },
     "execution_count": 10,
     "metadata": {},
     "output_type": "execute_result"
    }
   ],
   "source": [
    "np.histogram(int_times, bins=num_of_hours)"
   ]
  },
  {
   "cell_type": "code",
   "execution_count": 11,
   "metadata": {},
   "outputs": [
    {
     "data": {
      "text/plain": [
       "(array([24062,  2897,   813, 25469, 25892, 22982,  7091,  2936,  2448,\n",
       "        11069, 28033, 17569, 11137,  2239,  1331,  4845, 12575,  9619,\n",
       "         3478,  1523,   549,  2162,  5205,  1731], dtype=int64),\n",
       " array([  6561.  ,  20575.75,  34590.5 ,  48605.25,  62620.  ,  76634.75,\n",
       "         90649.5 , 104664.25, 118679.  , 132693.75, 146708.5 , 160723.25,\n",
       "        174738.  , 188752.75, 202767.5 , 216782.25, 230797.  , 244811.75,\n",
       "        258826.5 , 272841.25, 286856.  , 300870.75, 314885.5 , 328900.25,\n",
       "        342915.  ]))"
      ]
     },
     "execution_count": 11,
     "metadata": {},
     "output_type": "execute_result"
    }
   ],
   "source": [
    "np.histogram(int_times, bins=num_of_four_hours)"
   ]
  },
  {
   "cell_type": "code",
   "execution_count": 12,
   "metadata": {},
   "outputs": [
    {
     "data": {
      "text/plain": [
       "(array([102115,  69146,  41746,  14648], dtype=int64),\n",
       " array([  6561. ,  90649.5, 174738. , 258826.5, 342915. ]))"
      ]
     },
     "execution_count": 12,
     "metadata": {},
     "output_type": "execute_result"
    }
   ],
   "source": [
    "np.histogram(int_times, bins=num_of_days)"
   ]
  },
  {
   "cell_type": "code",
   "execution_count": 13,
   "metadata": {},
   "outputs": [
    {
     "data": {
      "text/plain": [
       "(array([227655], dtype=int64), array([  6561., 342915.]))"
      ]
     },
     "execution_count": 13,
     "metadata": {},
     "output_type": "execute_result"
    }
   ],
   "source": [
    "np.histogram(int_times, bins=num_of_weeks)"
   ]
  },
  {
   "cell_type": "code",
   "execution_count": 14,
   "metadata": {},
   "outputs": [],
   "source": [
    "def split_by_time_scale(min_time, max_time, time_range, time_scale):\n",
    "    times = []\n",
    "    for i in range(time_range):\n",
    "        time_start = min_time + i*(time_scale)\n",
    "        time_end = np.min([max_time, min_time + (i+1)*(time_scale)])\n",
    "        times.append((time_start, time_end))\n",
    "    return times"
   ]
  },
  {
   "cell_type": "code",
   "execution_count": 15,
   "metadata": {},
   "outputs": [],
   "source": [
    "hours = split_by_time_scale(min_time, max_time, num_of_hours, HOUR_IN_SECONDS)"
   ]
  },
  {
   "cell_type": "code",
   "execution_count": 16,
   "metadata": {},
   "outputs": [],
   "source": [
    "four_hours = split_by_time_scale(min_time, max_time, num_of_four_hours, FOUR_HOURS_IN_SECONDS)"
   ]
  },
  {
   "cell_type": "code",
   "execution_count": 17,
   "metadata": {},
   "outputs": [],
   "source": [
    "days = split_by_time_scale(min_time, max_time, num_of_days, DAY_IN_SECONDS)"
   ]
  },
  {
   "cell_type": "code",
   "execution_count": 18,
   "metadata": {},
   "outputs": [],
   "source": [
    "weeks = split_by_time_scale(min_time, max_time, num_of_weeks, WEEK_IN_SECONDS)"
   ]
  },
  {
   "cell_type": "code",
   "execution_count": 19,
   "metadata": {},
   "outputs": [],
   "source": [
    "months = split_by_time_scale(min_time, max_time, num_of_months, MONTH_IN_SECONDS)"
   ]
  },
  {
   "cell_type": "code",
   "execution_count": 20,
   "metadata": {},
   "outputs": [],
   "source": [
    "years = split_by_time_scale(min_time, max_time, num_of_years, YEAR_IN_SECONDS)"
   ]
  },
  {
   "cell_type": "code",
   "execution_count": 21,
   "metadata": {},
   "outputs": [
    {
     "name": "stdout",
     "output_type": "stream",
     "text": [
      "num of hours: 94, num of four hours: 24, num of days: 4, num of weeks: 1, num of months: 1, num of years: 1\n"
     ]
    }
   ],
   "source": [
    "print(f\"num of hours: {len(hours)}, num of four hours: {len(four_hours)}, num of days: {len(days)}, num of weeks: {len(weeks)}, num of months: {len(months)}, num of years: {len(years)}\".format())"
   ]
  },
  {
   "cell_type": "code",
   "execution_count": 22,
   "metadata": {},
   "outputs": [],
   "source": [
    "def split_graphs_by_scale(min_time, time_range, time_scale):\n",
    "    graphs_split = [[] for i in range(time_range)]\n",
    "    for n1, n2, t in zip(int_froms, int_tos, int_times):\n",
    "    #     print(type(n1), type(n2), type(t))\n",
    "        time_egde_belongs_to = int(np.floor((t - min_time) / time_scale))\n",
    "        if (n1 == n2):\n",
    "            continue\n",
    "        graphs_split[time_egde_belongs_to].append((n1, n2))\n",
    "    return graphs_split"
   ]
  },
  {
   "cell_type": "code",
   "execution_count": 23,
   "metadata": {},
   "outputs": [],
   "source": [
    "graphs_split_to_hours = split_graphs_by_scale(min_time, num_of_hours, HOUR_IN_SECONDS)"
   ]
  },
  {
   "cell_type": "code",
   "execution_count": 24,
   "metadata": {},
   "outputs": [],
   "source": [
    "graphs_split_to_four_hours = split_graphs_by_scale(min_time, num_of_four_hours, FOUR_HOURS_IN_SECONDS)"
   ]
  },
  {
   "cell_type": "code",
   "execution_count": 25,
   "metadata": {},
   "outputs": [],
   "source": [
    "graphs_split_to_days = split_graphs_by_scale(min_time, num_of_days, DAY_IN_SECONDS)"
   ]
  },
  {
   "cell_type": "code",
   "execution_count": 26,
   "metadata": {},
   "outputs": [],
   "source": [
    "graphs_split_to_weeks = split_graphs_by_scale(min_time, num_of_weeks, WEEK_IN_SECONDS)"
   ]
  },
  {
   "cell_type": "code",
   "execution_count": 27,
   "metadata": {},
   "outputs": [],
   "source": [
    "graphs_split_to_months = split_graphs_by_scale(min_time, num_of_months, MONTH_IN_SECONDS)"
   ]
  },
  {
   "cell_type": "code",
   "execution_count": 28,
   "metadata": {},
   "outputs": [],
   "source": [
    "graphs_split_to_years = split_graphs_by_scale(min_time, num_of_years, YEAR_IN_SECONDS)"
   ]
  },
  {
   "cell_type": "code",
   "execution_count": 29,
   "metadata": {},
   "outputs": [
    {
     "name": "stdout",
     "output_type": "stream",
     "text": [
      "hour graphs num of edges:\n",
      "7951\n",
      "8832\n",
      "6201\n",
      "1170\n",
      "1049\n",
      "964\n",
      "510\n",
      "331\n",
      "258\n",
      "272\n",
      "139\n",
      "185\n",
      "2452\n",
      "11905\n",
      "7422\n",
      "6515\n",
      "7194\n",
      "7202\n",
      "6177\n",
      "5192\n",
      "5677\n",
      "5753\n",
      "6250\n",
      "5729\n",
      "1582\n",
      "1140\n",
      "957\n",
      "907\n",
      "838\n",
      "570\n",
      "716\n",
      "578\n",
      "527\n",
      "776\n",
      "644\n",
      "494\n",
      "690\n",
      "3211\n",
      "7209\n",
      "8508\n",
      "7426\n",
      "6870\n",
      "5721\n",
      "5398\n",
      "5020\n",
      "3599\n",
      "3651\n",
      "2764\n",
      "2792\n",
      "3537\n",
      "1301\n",
      "685\n",
      "548\n",
      "413\n",
      "432\n",
      "362\n",
      "359\n",
      "309\n",
      "285\n",
      "320\n",
      "900\n",
      "2589\n",
      "2951\n",
      "3552\n",
      "3065\n",
      "3326\n",
      "2678\n",
      "2469\n",
      "2590\n",
      "2282\n",
      "1735\n",
      "1035\n",
      "470\n",
      "388\n",
      "495\n",
      "576\n",
      "239\n",
      "227\n",
      "149\n",
      "106\n",
      "136\n",
      "170\n",
      "252\n",
      "286\n",
      "764\n",
      "1325\n",
      "1179\n",
      "1479\n",
      "1224\n",
      "1308\n",
      "745\n",
      "379\n",
      "113\n",
      "4\n",
      "four hour graphs num of edges:\n",
      "24154\n",
      "2854\n",
      "854\n",
      "28294\n",
      "25765\n",
      "23409\n",
      "4586\n",
      "2702\n",
      "2441\n",
      "19618\n",
      "25415\n",
      "15034\n",
      "8315\n",
      "1755\n",
      "1273\n",
      "9992\n",
      "11538\n",
      "7642\n",
      "1929\n",
      "721\n",
      "844\n",
      "4747\n",
      "3656\n",
      "117\n",
      "day graphs num of edges:\n",
      "105330\n",
      "69796\n",
      "40515\n",
      "12014\n",
      "week graphs num of edges:\n",
      "227655\n",
      "month graphs num of edges:\n",
      "227655\n",
      "year graphs num of edges:\n",
      "227655\n"
     ]
    }
   ],
   "source": [
    "print('hour graphs num of edges:')\n",
    "for g in graphs_split_to_hours:\n",
    "    print(len(g))\n",
    "\n",
    "print('four hour graphs num of edges:')\n",
    "for g in graphs_split_to_four_hours:\n",
    "    print(len(g))\n",
    "\n",
    "print('day graphs num of edges:')\n",
    "for g in graphs_split_to_days:\n",
    "    print(len(g))\n",
    "\n",
    "print('week graphs num of edges:')\n",
    "for g in graphs_split_to_weeks:\n",
    "    print(len(g))\n",
    "\n",
    "print('month graphs num of edges:')\n",
    "for g in graphs_split_to_months:\n",
    "    print(len(g))\n",
    "    \n",
    "print('year graphs num of edges:')\n",
    "for g in graphs_split_to_years:\n",
    "    print(len(g))"
   ]
  },
  {
   "cell_type": "code",
   "execution_count": 30,
   "metadata": {},
   "outputs": [],
   "source": [
    "import networkx as nx"
   ]
  },
  {
   "cell_type": "code",
   "execution_count": 31,
   "metadata": {},
   "outputs": [],
   "source": [
    "nx_graphs_split_to_hours = list(map(nx.Graph, graphs_split_to_hours))\n",
    "nx_graphs_split_to_four_hours = list(map(nx.Graph, graphs_split_to_four_hours))\n",
    "nx_graphs_split_to_days = list(map(nx.Graph, graphs_split_to_days))\n",
    "nx_graphs_split_to_weeks = list(map(nx.Graph, graphs_split_to_weeks))\n",
    "nx_graphs_split_to_months = list(map(nx.Graph, graphs_split_to_months))\n",
    "nx_graphs_split_to_years = list(map(nx.Graph, graphs_split_to_years))"
   ]
  },
  {
   "cell_type": "code",
   "execution_count": 32,
   "metadata": {},
   "outputs": [],
   "source": [
    "num_of_nodes_per_hour = [g.number_of_nodes() for g in nx_graphs_split_to_hours]\n",
    "num_of_nodes_per_four_hours = [g.number_of_nodes() for g in nx_graphs_split_to_four_hours]\n",
    "num_of_nodes_per_day = [g.number_of_nodes() for g in nx_graphs_split_to_days]\n",
    "num_of_nodes_per_week = [g.number_of_nodes() for g in nx_graphs_split_to_weeks]\n",
    "num_of_nodes_per_month = [g.number_of_nodes() for g in nx_graphs_split_to_months]\n",
    "num_of_nodes_per_year = [g.number_of_nodes() for g in nx_graphs_split_to_years]\n",
    "\n",
    "num_of_edges_per_hour = [g.number_of_edges() for g in nx_graphs_split_to_hours]\n",
    "num_of_edges_per_four_hours = [g.number_of_edges() for g in nx_graphs_split_to_four_hours]\n",
    "num_of_edges_per_day = [g.number_of_edges() for g in nx_graphs_split_to_days]\n",
    "num_of_edges_per_week = [g.number_of_edges() for g in nx_graphs_split_to_weeks]\n",
    "num_of_edges_per_month = [g.number_of_edges() for g in nx_graphs_split_to_months]\n",
    "num_of_edges_per_year = [g.number_of_edges() for g in nx_graphs_split_to_years]"
   ]
  },
  {
   "cell_type": "code",
   "execution_count": 33,
   "metadata": {},
   "outputs": [
    {
     "data": {
      "text/plain": [
       "[(139, 1969),\n",
       " (169, 1508),\n",
       " (365, 1800),\n",
       " (234, 527),\n",
       " (167, 379),\n",
       " (213, 431),\n",
       " (146, 270),\n",
       " (128, 155),\n",
       " (98, 98),\n",
       " (89, 89),\n",
       " (68, 65),\n",
       " (87, 86),\n",
       " (127, 956),\n",
       " (170, 1576),\n",
       " (200, 1812),\n",
       " (203, 1402),\n",
       " (228, 1938),\n",
       " (257, 1308),\n",
       " (362, 1864),\n",
       " (348, 1725),\n",
       " (356, 1411),\n",
       " (323, 1597),\n",
       " (288, 1410),\n",
       " (316, 1504),\n",
       " (426, 925),\n",
       " (433, 688),\n",
       " (276, 475),\n",
       " (283, 453),\n",
       " (281, 447),\n",
       " (201, 300),\n",
       " (170, 290),\n",
       " (153, 235),\n",
       " (152, 204),\n",
       " (164, 273),\n",
       " (157, 246),\n",
       " (152, 231),\n",
       " (208, 333),\n",
       " (313, 1672),\n",
       " (217, 2095),\n",
       " (227, 2897),\n",
       " (234, 2889),\n",
       " (196, 2690),\n",
       " (212, 2160),\n",
       " (227, 2195),\n",
       " (212, 2075),\n",
       " (232, 1582),\n",
       " (229, 1726),\n",
       " (250, 1485),\n",
       " (201, 1256),\n",
       " (251, 1438),\n",
       " (206, 605),\n",
       " (235, 355),\n",
       " (216, 284),\n",
       " (135, 170),\n",
       " (157, 183),\n",
       " (115, 161),\n",
       " (119, 149),\n",
       " (96, 106),\n",
       " (88, 101),\n",
       " (128, 143),\n",
       " (229, 506),\n",
       " (256, 1252),\n",
       " (243, 1298),\n",
       " (249, 1732),\n",
       " (213, 1227),\n",
       " (241, 1685),\n",
       " (222, 1379),\n",
       " (222, 1139),\n",
       " (247, 1286),\n",
       " (343, 1180),\n",
       " (418, 1116),\n",
       " (391, 670),\n",
       " (233, 290),\n",
       " (141, 185),\n",
       " (209, 260),\n",
       " (272, 353),\n",
       " (128, 136),\n",
       " (98, 103),\n",
       " (68, 63),\n",
       " (53, 41),\n",
       " (57, 48),\n",
       " (68, 65),\n",
       " (102, 125),\n",
       " (128, 159),\n",
       " (254, 452),\n",
       " (242, 652),\n",
       " (181, 608),\n",
       " (160, 724),\n",
       " (137, 607),\n",
       " (157, 644),\n",
       " (187, 386),\n",
       " (109, 208),\n",
       " (45, 73),\n",
       " (3, 2)]"
      ]
     },
     "execution_count": 33,
     "metadata": {},
     "output_type": "execute_result"
    }
   ],
   "source": [
    "list(zip(num_of_nodes_per_hour, num_of_edges_per_hour))"
   ]
  },
  {
   "cell_type": "code",
   "execution_count": 34,
   "metadata": {},
   "outputs": [
    {
     "data": {
      "text/plain": [
       "[(522, 2946),\n",
       " (351, 864),\n",
       " (143, 189),\n",
       " (331, 2902),\n",
       " (729, 3762),\n",
       " (828, 3300),\n",
       " (927, 2039),\n",
       " (437, 876),\n",
       " (237, 480),\n",
       " (520, 4206),\n",
       " (405, 5469),\n",
       " (450, 4270),\n",
       " (521, 2434),\n",
       " (340, 558),\n",
       " (198, 284),\n",
       " (498, 3221),\n",
       " (370, 3462),\n",
       " (786, 3166),\n",
       " (519, 795),\n",
       " (176, 223),\n",
       " (181, 260),\n",
       " (436, 1707),\n",
       " (273, 1262),\n",
       " (45, 74)]"
      ]
     },
     "execution_count": 34,
     "metadata": {},
     "output_type": "execute_result"
    }
   ],
   "source": [
    "list(zip(num_of_nodes_per_four_hours, num_of_edges_per_four_hours))"
   ]
  },
  {
   "cell_type": "code",
   "execution_count": 35,
   "metadata": {},
   "outputs": [
    {
     "data": {
      "text/plain": [
       "[(1899, 8781), (1792, 10427), (1597, 8744), (1029, 3434)]"
      ]
     },
     "execution_count": 35,
     "metadata": {},
     "output_type": "execute_result"
    }
   ],
   "source": [
    "list(zip(num_of_nodes_per_day, num_of_edges_per_day))"
   ]
  },
  {
   "cell_type": "code",
   "execution_count": 36,
   "metadata": {},
   "outputs": [
    {
     "data": {
      "text/plain": [
       "[(4519, 21181)]"
      ]
     },
     "execution_count": 36,
     "metadata": {},
     "output_type": "execute_result"
    }
   ],
   "source": [
    "list(zip(num_of_nodes_per_week, num_of_edges_per_week))"
   ]
  },
  {
   "cell_type": "code",
   "execution_count": 37,
   "metadata": {},
   "outputs": [
    {
     "data": {
      "text/plain": [
       "[(4519, 21181)]"
      ]
     },
     "execution_count": 37,
     "metadata": {},
     "output_type": "execute_result"
    }
   ],
   "source": [
    "list(zip(num_of_nodes_per_month, num_of_edges_per_month))"
   ]
  },
  {
   "cell_type": "code",
   "execution_count": 38,
   "metadata": {},
   "outputs": [
    {
     "data": {
      "text/plain": [
       "[(4519, 21181)]"
      ]
     },
     "execution_count": 38,
     "metadata": {},
     "output_type": "execute_result"
    }
   ],
   "source": [
    "list(zip(num_of_nodes_per_year, num_of_edges_per_year))"
   ]
  },
  {
   "cell_type": "code",
   "execution_count": 39,
   "metadata": {},
   "outputs": [],
   "source": [
    "interesting_graphs_candidate_one = nx_graphs_split_to_hours[38:47]"
   ]
  },
  {
   "cell_type": "code",
   "execution_count": 42,
   "metadata": {},
   "outputs": [
    {
     "name": "stdout",
     "output_type": "stream",
     "text": [
      "217 2095\n",
      "227 2897\n",
      "234 2889\n",
      "196 2690\n",
      "212 2160\n",
      "227 2195\n",
      "212 2075\n",
      "232 1582\n",
      "229 1726\n"
     ]
    }
   ],
   "source": [
    "for g in interesting_graphs_candidate_one:\n",
    "    print(g.number_of_nodes(), g.number_of_edges())"
   ]
  },
  {
   "cell_type": "code",
   "execution_count": 222,
   "metadata": {},
   "outputs": [
    {
     "name": "stdout",
     "output_type": "stream",
     "text": [
      "18476\n",
      "43111\n",
      "50218\n"
     ]
    }
   ],
   "source": [
    "for g in interesting_graphs_candidate_two:\n",
    "    print(g.number_of_nodes())"
   ]
  },
  {
   "cell_type": "code",
   "execution_count": 95,
   "metadata": {},
   "outputs": [],
   "source": [
    "import pickle"
   ]
  },
  {
   "cell_type": "code",
   "execution_count": 96,
   "metadata": {},
   "outputs": [],
   "source": [
    "pickle.dump(interesting_graphs_candidate_one, open(r\"..\\..\\..\\success_prediction\\Pickles\\cambridge_haggle\\infocom06_hours.pkl\", 'wb'))"
   ]
  }
 ],
 "metadata": {
  "interpreter": {
   "hash": "e4ccc5ecf18fb58fa8fe9d1f7f09af31da16d310d94f0e4ae059c618b9d3948a"
  },
  "kernelspec": {
   "display_name": "Python 3.7.7 64-bit ('networks_env': venv)",
   "name": "python3"
  },
  "language_info": {
   "codemirror_mode": {
    "name": "ipython",
    "version": 3
   },
   "file_extension": ".py",
   "mimetype": "text/x-python",
   "name": "python",
   "nbconvert_exporter": "python",
   "pygments_lexer": "ipython3",
   "version": "3.7.7"
  },
  "metadata": {
   "interpreter": {
    "hash": "8359f531aeae4cd723c84fd7dbcf6003f0b2e0aedfbf795710f2cb623b15faad"
   }
  }
 },
 "nbformat": 4,
 "nbformat_minor": 2
}
